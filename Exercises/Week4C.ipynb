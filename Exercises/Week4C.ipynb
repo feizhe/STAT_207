{
 "cells": [
  {
   "cell_type": "markdown",
   "metadata": {},
   "source": [
    "# Working with Matrices"
   ]
  },
  {
   "cell_type": "code",
   "execution_count": null,
   "metadata": {},
   "outputs": [],
   "source": [
    "import numpy as np"
   ]
  },
  {
   "cell_type": "markdown",
   "metadata": {},
   "source": [
    "## Permutation matrices\n",
    "\n",
    "From the column extraction by post-multiplication with a standard unit column vector, we generalize to permutation matrices (identity matrix with permuted columns). Post-multiplication of a matrix $A$ with a permutation matrix $P$ rearranges the columns of  $A$. To recover the original matrix, multiply with $P^T$ - i.e. $P^{-1} = P^T$ and the inverse of $P$ is its inverse, $P$ being our first example of an orthogonal matrix."
   ]
  },
  {
   "cell_type": "code",
   "execution_count": null,
   "metadata": {},
   "outputs": [],
   "source": [
    "A = np.arange(1, 17).reshape((4,4))\n",
    "A"
   ]
  },
  {
   "cell_type": "code",
   "execution_count": null,
   "metadata": {},
   "outputs": [],
   "source": [
    "I = np.eye(4, dtype='int')\n",
    "I"
   ]
  },
  {
   "cell_type": "code",
   "execution_count": null,
   "metadata": {},
   "outputs": [],
   "source": [
    "A @ I"
   ]
  },
  {
   "cell_type": "code",
   "execution_count": null,
   "metadata": {},
   "outputs": [],
   "source": [
    "p = I[:, [2,1,3,0]]\n",
    "p"
   ]
  },
  {
   "cell_type": "code",
   "execution_count": null,
   "metadata": {},
   "outputs": [],
   "source": [
    "A @ p"
   ]
  },
  {
   "cell_type": "code",
   "execution_count": null,
   "metadata": {},
   "outputs": [],
   "source": [
    "A @ p @ p.T"
   ]
  },
  {
   "cell_type": "markdown",
   "metadata": {},
   "source": [
    "## Matrix partitioning \n",
    "\n",
    "We see above that matrix multiplication can be seen as separate operations on the row or column vectors. We can actually partition matrices into blocks (not just vectors) for matrix multiplication. Suppose we want to calculate $AB$, where\n",
    "\n",
    "\\begin{align}\n",
    "A = \\begin{bmatrix}\n",
    "1 & 0 & 1 & 0 \\\\\n",
    "0 & 1 & 0 & 1 \\\\\n",
    "0 & 0 & 2 & 0 \\\\\n",
    "0 & 0 & 0 & 3\n",
    "\\end{bmatrix}&, & B = \\begin{bmatrix}\n",
    "1 & 2 & 3 & 4 \\\\\n",
    "5 & 6 & 7 & 8 \\\\\n",
    "0 & 0 & 1 & 0 \\\\\n",
    "0 & 0 & 0 & 1\n",
    "\\end{bmatrix}\n",
    "\\end{align}\n",
    "\n",
    "We can consider (say) $A$ and $B$ as each being a $2 \\times 2$ matrix where each element is a $2 \\times 2$ sub-matrix (or block). This simplifies the computation since many blocks are the identity or null matrix.\n",
    "\n",
    "\\begin{align}\n",
    "A = \\begin{bmatrix}\n",
    "A_{11} & A_{12} \\\\\n",
    "A_{21} & A_{22}\n",
    "\\end{bmatrix}&, & B = \\begin{bmatrix}\n",
    "B_{11} & B_{12} \\\\\n",
    "B_{21} & B_{22}\n",
    "\\end{bmatrix}\n",
    "\\end{align}\n",
    "\n",
    "and \n",
    "\n",
    "$$\n",
    "AB = \\begin{bmatrix}\n",
    "A_{11}B_{11} + A_{12}B_{21} & A_{11}B_{12} + A_{12}B_{22} \\\\\n",
    "A_{21}B_{11} + A_{22}B_{22} & A_{21}B_{12} + A_{22}B_{22}\n",
    "\\end{bmatrix}\n",
    "$$\n",
    "\n",
    "In fact, we can see by inspection that the result will be\n",
    "\n",
    "$$\n",
    "AB = \\begin{bmatrix}\n",
    "B_{11} & B_{12}+I_2 \\\\\n",
    "0_2 & A_{22}\n",
    "\\end{bmatrix} = \\begin{bmatrix}\n",
    "1 & 2 & 4 & 4 \\\\\n",
    "5 & 6 & 7 & 9 \\\\\n",
    "0 & 0 & 2 & 0 \\\\\n",
    "0 & 0 & 0 & 3\n",
    "\\end{bmatrix}\n",
    "$$\n",
    "\n",
    "In general, any sub-block structure consistent with matrix multiplication (more formally, $A$ and $B$ are *conformable* for multiplication) is fine. In particular, the blocks do not have to be square."
   ]
  },
  {
   "cell_type": "code",
   "execution_count": null,
   "metadata": {},
   "outputs": [],
   "source": [
    "a11 = np.eye(2)\n",
    "a12 = np.eye(2)\n",
    "a21 = np.zeros((2,2))\n",
    "a22 = np.diag((2,3))\n",
    "\n",
    "b11 = np.array([\n",
    "    [1,2],\n",
    "    [5,6]    \n",
    "])\n",
    "b12 = np.array([\n",
    "    [3,4],\n",
    "    [7,8]\n",
    "])\n",
    "b21 = np.zeros((2,2))\n",
    "b22 = np.eye(2)"
   ]
  },
  {
   "cell_type": "code",
   "execution_count": null,
   "metadata": {},
   "outputs": [],
   "source": [
    "A = np.block([\n",
    "    [a11, a12],\n",
    "    [a21, a22]\n",
    "]).astype('int')\n",
    "A"
   ]
  },
  {
   "cell_type": "code",
   "execution_count": null,
   "metadata": {},
   "outputs": [],
   "source": [
    "B = np.block([\n",
    "    [b11, b12],\n",
    "    [b21, b22]\n",
    "]).astype('int')\n",
    "B"
   ]
  },
  {
   "cell_type": "code",
   "execution_count": null,
   "metadata": {},
   "outputs": [],
   "source": [
    "A @ B"
   ]
  },
  {
   "cell_type": "code",
   "execution_count": null,
   "metadata": {},
   "outputs": [],
   "source": [
    "np.block([\n",
    "    [a11@b11 + a12@b21, a11@b12 + a12@b22],\n",
    "    [a21@b11 + a22@b21, a21@b12 + a22@b22]\n",
    "]).astype('int')"
   ]
  },
  {
   "cell_type": "markdown",
   "metadata": {},
   "source": [
    "## Ex\n",
    "\n",
    "In multivariate statistics, it is common to partition a covariance matrix to obtain the conditional distribution of one set of variables given another. Suppose the covariance matrix $\\Sigma$ for a p-variate distribution is partitioned as follows:\n",
    "$$\n",
    "\\Sigma = \\begin{pmatrix}\n",
    "\\Sigma_{11} & \\Sigma_{12} \\\\\n",
    "\\Sigma_{21} & \\Sigma_{22}\n",
    "\\end{pmatrix},\n",
    "$$\n",
    "where the first block represents the covariance among the first k variables and the second block for the remaining $p-k$ variables. The conditional covariance of the first set, given the second set, is given by:\n",
    "$\n",
    "\\Sigma_{1|2} = \\Sigma_{11} - \\Sigma_{12} \\Sigma_{22}^{-1} \\Sigma_{21}.\n",
    "$\n",
    "\n",
    "Implement a function conditional_covariance(Sigma, k) that:\n",
    "- Accepts a p \\times p covariance matrix (as a NumPy array) and an integer k (with $1 \\leq k < p$) that defines the partition.\n",
    "- Returns the conditional covariance matrix \\Sigma_{1|2} for the first k variables given the remaining $p-k$ variables.\n"
   ]
  },
  {
   "cell_type": "markdown",
   "metadata": {},
   "source": []
  }
 ],
 "metadata": {
  "kernelspec": {
   "display_name": "stat_207",
   "language": "python",
   "name": "python3"
  },
  "language_info": {
   "codemirror_mode": {
    "name": "ipython",
    "version": 3
   },
   "file_extension": ".py",
   "mimetype": "text/x-python",
   "name": "python",
   "nbconvert_exporter": "python",
   "pygments_lexer": "ipython3",
   "version": "3.10.8"
  }
 },
 "nbformat": 4,
 "nbformat_minor": 2
}
