{
 "cells": [
  {
   "cell_type": "markdown",
   "metadata": {},
   "source": [
    "## Golden Section Search\n",
    "\n",
    "A simple numerical algorithm for minimization.\n",
    "\n",
    "- Golden section search is reliable and applies to any continuous function $f(x)$. \n",
    "\n",
    "- It cannot generalize to higher dimensions and its relatively slow rate of convergence.\n",
    "\n",
    "Golden section search:\n",
    "\n",
    "- start with three points $a < b < c$ satisfying $f(b) < \\min\\{f(a), f(c) \\}$,\n",
    "\n",
    "- find the next bracketing interval that contains the minimum with $a < b < d$ or $b < d < c$.\n",
    "    \n",
    "\n",
    "Consider the function $f(x) = −7 \\ln x − 3 \\ln(1 − x)$. Explain how to find the minimum of $f(x)$."
   ]
  },
  {
   "cell_type": "code",
   "execution_count": null,
   "metadata": {},
   "outputs": [],
   "source": [
    "import numpy as np\n",
    "import matplotlib.pyplot as plt\n",
    "\n",
    "# Define the function to plot\n",
    "def f(x):\n",
    "    return -7 * np.log(x) - 3 * np.log(1 - x)\n",
    "\n",
    "# Create an array of x values between 0 and 1\n",
    "x = np.linspace(0.001, 0.999, 1000)\n",
    "\n",
    "# Plot the function\n",
    "plt.plot(x, f(x))\n",
    "\n",
    "# Set the title and labels\n",
    "plt.title('Plot of f(x) = −7 ln(x) − 3 ln(1 − x)')\n",
    "plt.xlabel('x')\n",
    "plt.ylabel('f(x)')\n",
    "\n",
    "# Show the plot\n",
    "plt.show()\n"
   ]
  },
  {
   "cell_type": "code",
   "execution_count": null,
   "metadata": {},
   "outputs": [],
   "source": [
    "import math\n",
    "\n",
    "def f(x):\n",
    "    return -7 * math.log(x) - 3 * math.log(1 - x)\n",
    "\n",
    "def golden_section_search(f, a, b, tol=1e-6):\n",
    "    gr = (math.sqrt(5) + 1) / 2  # golden ratio\n",
    "    c = b - (b - a) / gr\n",
    "    d = a + (b - a) / gr\n",
    "    while abs(c - d) > tol:\n",
    "        if f(c) < f(d):\n",
    "            b = d\n",
    "        else:\n",
    "            a = c\n",
    "        c = b - (b - a) / gr\n",
    "        d = a + (b - a) / gr\n",
    "        print([a,c,b])\n",
    "    return (b + a) / 2\n",
    "\n",
    "# find the minimum of f(x) on [0, 1]\n",
    "x_min = golden_section_search(f, 0.01, 0.99)\n",
    "print(\"x_min =\", x_min)\n",
    "print(\"f(x_min) =\", f(x_min))\n"
   ]
  },
  {
   "cell_type": "markdown",
   "metadata": {},
   "source": [
    "**Ex**. Pythagorean triplets\n",
    "\n",
    "A Pythagorean triplet is a tuple of positive integers $(a, b, c)$ such that $a^2 + b^2 = c^2$. For example, (3,4,5) is a Pythagorean triplet. Make a list of all Pythagorean triplets where $a \\le b \\lt 50$.\n",
    "\n",
    "Note: Floating point numbers in Python have a useful method `is_integer`."
   ]
  },
  {
   "cell_type": "code",
   "execution_count": null,
   "metadata": {},
   "outputs": [],
   "source": []
  },
  {
   "cell_type": "markdown",
   "metadata": {},
   "source": []
  }
 ],
 "metadata": {
  "kernelspec": {
   "display_name": "stat_207",
   "language": "python",
   "name": "python3"
  },
  "language_info": {
   "codemirror_mode": {
    "name": "ipython",
    "version": 3
   },
   "file_extension": ".py",
   "mimetype": "text/x-python",
   "name": "python",
   "nbconvert_exporter": "python",
   "pygments_lexer": "ipython3",
   "version": "3.10.8"
  }
 },
 "nbformat": 4,
 "nbformat_minor": 2
}
