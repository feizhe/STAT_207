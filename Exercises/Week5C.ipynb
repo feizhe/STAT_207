{
 "cells": [
  {
   "cell_type": "markdown",
   "metadata": {},
   "source": [
    "# The Rayleigh Quotient\n",
    "\n",
    "Implement the Rayleigh Quotient with explanations, \n",
    "\n",
    "a. find the eigenvalues and eigenvectors of the following $A$ matrix.\n",
    "\n",
    "b. if $A$ is not symmetric, how would the Rayleigh Quotient work?"
   ]
  },
  {
   "cell_type": "code",
   "execution_count": 1,
   "metadata": {},
   "outputs": [],
   "source": [
    "import numpy as np\n",
    "\n",
    "# Set random seed\n",
    "np.random.seed(12)\n",
    "\n",
    "# Step 1: Generate a random symmetric matrix A (e.g., a covariance-like matrix)\n",
    "m = 5\n",
    "A_random = np.random.randn(m, m)\n",
    "A = A_random.T @ A_random  # ensures A is symmetric positive semi-definite\n"
   ]
  },
  {
   "cell_type": "code",
   "execution_count": null,
   "metadata": {},
   "outputs": [],
   "source": []
  }
 ],
 "metadata": {
  "kernelspec": {
   "display_name": "stat_207",
   "language": "python",
   "name": "python3"
  },
  "language_info": {
   "codemirror_mode": {
    "name": "ipython",
    "version": 3
   },
   "file_extension": ".py",
   "mimetype": "text/x-python",
   "name": "python",
   "nbconvert_exporter": "python",
   "pygments_lexer": "ipython3",
   "version": "3.10.8"
  }
 },
 "nbformat": 4,
 "nbformat_minor": 2
}
