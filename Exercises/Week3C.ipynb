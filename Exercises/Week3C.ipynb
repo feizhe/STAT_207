{
 "cells": [
  {
   "cell_type": "markdown",
   "metadata": {},
   "source": [
    "## Minimization by Cubic Interpolation\n",
    "\n",
    "Cubic interpolation offers a faster but less reliable method of minimization\n",
    "than golden section search.\n",
    "\n",
    "The idea is to fit a cubic polynomial to three points in the function (or four values $f(x)$ and $f'(x)$ of two points), and then finding the minimum of that polynomial. It then replaces the worst point with the new point, and continues the process until convergence.\n",
    "\n",
    "\n",
    "Consider the function $f(x) = −7 \\ln x − 3 \\ln(1 − x)$. Explain how to find the minimum of $f(x)$."
   ]
  },
  {
   "cell_type": "code",
   "execution_count": null,
   "metadata": {},
   "outputs": [],
   "source": [
    "import numpy as np\n",
    "import matplotlib.pyplot as plt\n",
    "\n",
    "# Define the function to plot\n",
    "def f(x):\n",
    "    return -7 * np.log(x) - 3 * np.log(1 - x)\n",
    "\n",
    "# Create an array of x values between 0 and 1\n",
    "x = np.linspace(0.001, 0.999, 1000)\n",
    "\n",
    "# Plot the function\n",
    "plt.plot(x, f(x))\n",
    "\n",
    "# Set the title and labels\n",
    "plt.title('Plot of f(x) = −7 ln(x) − 3 ln(1 − x)')\n",
    "plt.xlabel('x')\n",
    "plt.ylabel('f(x)')\n",
    "\n",
    "# Show the plot\n",
    "plt.show()\n"
   ]
  },
  {
   "cell_type": "code",
   "execution_count": null,
   "metadata": {},
   "outputs": [],
   "source": [
    "\n",
    "# Define the cubic interpolation function\n",
    "def cubic_interpolation(f, x0, x1, x2, tol):\n",
    "    # Iterate until convergence\n",
    "    while abs(x2 - x0) > tol:\n",
    "        f0, f1, f2 = f(x0), f(x1), f(x2)\n",
    "        \n",
    "        # Compute the cubic interpolation point\n",
    "        a = f0\n",
    "        b = (f1 - f0) / (x1 - x0)\n",
    "        c = ((f2 - f0) / (x2 - x0) - b) / (x2 - x1)\n",
    "        x = (x0 + x1) / 2 - b / (2 * c)\n",
    "        \n",
    "        # Evaluate the function at the new point\n",
    "        fx = f(x)\n",
    "        # Update the bracketing points\n",
    "        if x < x1:\n",
    "            if fx < f1:\n",
    "                x2, x1, x0 = x1, x, x0\n",
    "                f2, f1, f0 = f1, fx, f0\n",
    "            else:\n",
    "                x0 = x\n",
    "                f0 = fx\n",
    "        else:\n",
    "            if fx < f1:\n",
    "                x0, x1, x2 = x1, x, x2\n",
    "                f0, f1, f2 = f1, fx, f2\n",
    "            else:\n",
    "                x2 = x\n",
    "                f2 = fx\n",
    "        print([x0,x1,x2])\n",
    "    return x1"
   ]
  },
  {
   "cell_type": "code",
   "execution_count": null,
   "metadata": {},
   "outputs": [],
   "source": [
    "# Define initial bracketing points\n",
    "x0 = 0.01\n",
    "x1 = 0.5\n",
    "x2 = 0.9\n",
    "\n",
    "# Set tolerance for convergence\n",
    "tol = 1e-6\n",
    "\n",
    "\n",
    "x1 = cubic_interpolation(f, x0, x1, x2, tol)\n",
    "f1 = f(x1)\n",
    "\n",
    "# Print the minimum point and function value\n",
    "print(\"Minimum point:\", x1)\n",
    "print(\"Minimum value:\", f1)"
   ]
  },
  {
   "cell_type": "markdown",
   "metadata": {},
   "source": [
    "**Ex**. Armstrong (Narcissistic) Numbers\n",
    "\n",
    "\n",
    "An Armstrong number (or narcissistic number) is an integer such that the sum of its own digits each raised to the power of the number of digits equals the number itself. For example, 153 is an Armstrong number because:\n",
    "\n",
    "$1^3 + 5^3 + 3^3 = 1 + 125 + 27 = 153$\n",
    "\n",
    "Write a program that prints all Armstrong numbers between 1 and 1000.\n"
   ]
  },
  {
   "cell_type": "markdown",
   "metadata": {},
   "source": []
  }
 ],
 "metadata": {
  "kernelspec": {
   "display_name": "stat_207",
   "language": "python",
   "name": "python3"
  },
  "language_info": {
   "codemirror_mode": {
    "name": "ipython",
    "version": 3
   },
   "file_extension": ".py",
   "mimetype": "text/x-python",
   "name": "python",
   "nbconvert_exporter": "python",
   "pygments_lexer": "ipython3",
   "version": "3.10.8"
  }
 },
 "nbformat": 4,
 "nbformat_minor": 2
}
