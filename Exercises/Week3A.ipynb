{
 "cells": [
  {
   "cell_type": "markdown",
   "metadata": {},
   "source": [
    "## Secant Method\n",
    "\n",
    "The secant method also begins with two initial points, but without the constraint that the function values are of opposite signs.  We use the secant line to extrapolate the next candidate point.\n",
    "\n",
    "**Explain the algorithm and example below.**\n"
   ]
  },
  {
   "cell_type": "code",
   "execution_count": null,
   "metadata": {},
   "outputs": [],
   "source": [
    "import numpy as np\n",
    "import matplotlib.pyplot as plt\n",
    "\n",
    "\n",
    "def f(x):\n",
    "    return (x**3-2*x+7)/(x**4+2)\n",
    "\n",
    "x = np.arange(-3,5, 0.1);\n",
    "y = f(x)\n",
    "\n",
    "p1=plt.plot(x, y)\n",
    "plt.xlim(-3, 4)\n",
    "plt.ylim(-.5, 4)\n",
    "plt.xlabel('x')\n",
    "plt.axhline(0)\n",
    "t = np.arange(-10, 5., 0.1)\n",
    "\n",
    "x0=-1.2\n",
    "x1=-0.5\n",
    "xvals = []\n",
    "xvals.append(x0)\n",
    "xvals.append(x1)\n",
    "notconverge = 1\n",
    "count = 0\n",
    "cols=['r--','b--','g--','y--']\n",
    "while (notconverge==1 and count <  3):\n",
    "    slope=(f(xvals[count+1])-f(xvals[count]))/(xvals[count+1]-xvals[count])\n",
    "    intercept=-slope*xvals[count+1]+f(xvals[count+1])\n",
    "    plt.plot(t, slope*t + intercept, cols[count])\n",
    "    nextval = -intercept/slope\n",
    "    if abs(f(nextval)) < 0.001:\n",
    "        notconverge=0\n",
    "    else:\n",
    "        xvals.append(nextval)\n",
    "    count = count+1\n",
    "\n",
    "plt.show()"
   ]
  },
  {
   "cell_type": "markdown",
   "metadata": {},
   "source": [
    "The secant method has the advantage of fast convergence.  While the bisection method has a linear convergence rate (i.e. error goes to zero at the rate that $h(x) = x$ goes to zero, the secant method has a convergence rate that is faster than linear, but not quite quadratic (i.e. $\\sim x^\\alpha$, where $\\alpha = \\frac{1+\\sqrt{5}}2 \\approx 1.6$) however, the trade-off is that the secant method is not guaranteed to find a root in the brackets.\n",
    "\n",
    "A variant of the secant method is known as the **method of false positions**. Conceptually it is identical to the secant method, except that instead of always using the last two values of $x$ for linear interpolation, it chooses the two most recent values that maintain the bracket property (i.e $f(a) f(b) < 0$). It is slower than the secant, but like the bisection, is safe."
   ]
  },
  {
   "cell_type": "markdown",
   "metadata": {},
   "source": [
    "**Ex**. The FizzBuzz problem. \n",
    "\n",
    "> Write a program that prints the numbers from 1 to 100. But for multiples of three print “Fizz” instead of the number and for the multiples of five print “Buzz”. For numbers which are multiples of both three and five print “FizzBuzz”."
   ]
  },
  {
   "cell_type": "code",
   "execution_count": null,
   "metadata": {},
   "outputs": [],
   "source": []
  }
 ],
 "metadata": {
  "kernelspec": {
   "display_name": "stat_207",
   "language": "python",
   "name": "python3"
  },
  "language_info": {
   "codemirror_mode": {
    "name": "ipython",
    "version": 3
   },
   "file_extension": ".py",
   "mimetype": "text/x-python",
   "name": "python",
   "nbconvert_exporter": "python",
   "pygments_lexer": "ipython3",
   "version": "3.10.8"
  }
 },
 "nbformat": 4,
 "nbformat_minor": 2
}
