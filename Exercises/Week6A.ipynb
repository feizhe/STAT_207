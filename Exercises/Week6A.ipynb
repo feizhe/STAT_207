{
 "cells": [
  {
   "cell_type": "markdown",
   "metadata": {},
   "source": [
    "Suppose I need to compute the generalized least squares estimator,  \n",
    "$\\hat{\\beta}=(X^{\\top}\\Sigma^{-1}X)^{-1}X^{\\top}\\Sigma^{-1}Y$, where  \n",
    "$X$ is $n\\times p$ and $\\Sigma$ is a positive definite $n\\times n$ matrix. Assume that $n>p$ and  \n",
    "$n$ could be of order several thousand and $p$ of order in the  \n",
    "hundreds.\n",
    "\n",
    "**a.** First write out in pseudo-code how you would do this in an efficient way - i.e., the particular linear algebra steps and the  \n",
    "order of operations. Then write efficient Python code in the form of a  \n",
    "function, `gls()`, to do this - you can rely on the various  \n",
    "high-level functions for matrix decompositions and solving systems  \n",
    "of equations, but you should not use any code that already exists  \n",
    "for doing generalized least squares or matrix inversion. \n",
    "\n",
    "**b.** Now compare your approach to directly using the inverse in Python (but make sure to only calculate the inverse once and to use an efficient order of operations). Is the timing consistent with the results of Part (a)? For simplicity, you can construct a positive definite matrix $\\Sigma$ as $\\Sigma=W^{\\top}W$, with the elements of the $n\\times n$ matrix $W$ generated randomly. (In a real problem, $\\Sigma$ would be set up based on the context of course.) You can also generate $X$ and $Y$ randomly.\n",
    "\n",
    "**c.** Are the results for the solution, $\\hat{\\beta}$, the same numerically for the two approaches (up to machine precision)? Comment on how many digits in the elements of $\\hat{\\beta}$ agree, and relate this to the condition number of the calculation."
   ]
  },
  {
   "cell_type": "code",
   "execution_count": 2,
   "metadata": {},
   "outputs": [
    {
     "name": "stdout",
     "output_type": "stream",
     "text": [
      "(2000,)\n"
     ]
    }
   ],
   "source": [
    "import numpy as np\n",
    "\n",
    "np.random.seed(123)\n",
    "n=2000\n",
    "p=500\n",
    "\n",
    "# Generate X: n x p matrix with standard normal entries\n",
    "X = np.random.randn(n, p)\n",
    "\n",
    "# Generate W: random n x n matrix, then Sigma = W^T W is positive definite\n",
    "W = np.random.randn(n, n)\n",
    "Sigma = W.T @ W\n",
    "\n",
    "# Generate Y \n",
    "Y = np.random.randn(n)\n",
    "print(Y.shape)"
   ]
  },
  {
   "cell_type": "code",
   "execution_count": null,
   "metadata": {},
   "outputs": [],
   "source": []
  }
 ],
 "metadata": {
  "kernelspec": {
   "display_name": "stat_207",
   "language": "python",
   "name": "python3"
  },
  "language_info": {
   "codemirror_mode": {
    "name": "ipython",
    "version": 3
   },
   "file_extension": ".py",
   "mimetype": "text/x-python",
   "name": "python",
   "nbconvert_exporter": "python",
   "pygments_lexer": "ipython3",
   "version": "3.10.8"
  }
 },
 "nbformat": 4,
 "nbformat_minor": 2
}
