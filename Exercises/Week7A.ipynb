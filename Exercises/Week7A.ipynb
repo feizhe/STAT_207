{
 "cells": [
  {
   "cell_type": "markdown",
   "metadata": {},
   "source": [
    "# Support Vector Machine for Cancer Diagnosis\n",
    "\n",
    "## Motivation and Background\n",
    "\n",
    "Breast cancer diagnosis from cell imagery is a critical real-world task in medical machine learning. We have a publicly available dataset, the Breast Cancer Wisconsin (Diagnostic) dataset, which contains 569 samples of cell nuclei with 30 numerical features describing each (radius, texture, etc.), labeled as malignant (212 cases) or benign (357 cases) ￼. A Support Vector Machine (SVM) is a supervised learning model well-suited for such binary classification tasks ￼. SVMs find an optimal separating hyperplane in the feature space that maximizes the margin between two classes, as illustrated below. The closest data points to the hyperplane (on either side) are the support vectors, which define the margin ￼. By maximizing this margin, SVMs tend to improve generalization performance.\n",
    "\n",
    "We use a soft-margin SVM formulation to allow some misclassifications (important for non-separable data). Let $x_i \\in \\mathbb{R}^{30}$ be the feature vector for sample $i$ and $y_i \\in {+1, -1}$ its class label (malignant or benign). The optimization problem is:\n",
    "\n",
    "$$\n",
    "\\begin{aligned}\n",
    "& \\min_{w,b,\\{\\zeta_i\\}} \\quad \\frac{1}{2}\\|w\\|^2 \\;+\\; C \\sum_{i=1}^n \\zeta_i, && \\\\\n",
    "& \\text{subject to} \\quad y_i\\big(w^T x_i + b\\big) \\ge 1 - \\zeta_i,\\; &&  i=1,\\dots,n, \\\\\n",
    "& \\quad\\quad\\quad\\;\\;\\;\\; \\zeta_i \\ge 0, &&  i=1,\\dots,n.\n",
    "\\end{aligned}\n",
    "$$\n",
    "\n",
    "Here $w \\in \\mathbb{R}^{30}$ is the normal vector to the hyperplane, $b \\in \\mathbb{R}$ is the bias term, and $\\zeta_i \\ge 0$ are slack variables that allow violations of the margin constraints. The constant $C > 0$ controls the trade-off between maximizing the margin (minimizing $|w|$) and minimizing classification errors (penalizing $\\zeta_i$). Intuitively, the primary term $\\frac{1}{2}|w|^2$ maximizes the margin (since margin $= \\frac{2}{|w|}$), while the constraint $y_i(w^T x_i + b) \\ge 1$ enforces that each sample lies on the correct side of the margin. If some points are within the margin or misclassified, the slack $\\zeta_i$ allows those violations at a linear cost $C\\zeta_i$ in the objective ￼. This formulation is convex: the objective is quadratic and constraints are linear inequalities, ensuring a unique global minimum. The feasible region defined by $y_i(w^T x_i + b)\\ge 1-\\zeta_i$, $\\zeta_i\\ge0$ is convex (an intersection of half-spaces).\n",
    "\n",
    "\n",
    "**Qestion: Apply Lagrangian and KKT Conditions** to solve this optimization problem. Derive the dual problem and explain how it can be solved.\n"
   ]
  },
  {
   "cell_type": "markdown",
   "metadata": {},
   "source": [
    "## Breast Cancer Data\n",
    "\n",
    "For the Wisconsin breast cancer data, $n=569$ and each $x_i$ has 30 features. We would encode malignant as $y_i = +1$ and benign as $y_i = -1$ (or vice versa). The SVM will find $w$ and $b$ that define a separating hyperplane $w^T x + b = 0$. After solving the optimization, a new tumor $x_{\\text{new}}$ is classified by the sign of $w^T x_{\\text{new}} + b$. Because SVM focuses on support vectors (typically a small subset of training points on the margin), it is efficient in high dimensions and often yields robust models.\n",
    "\n",
    "**Q: Use `svm.SVC` function to solve this real data problem.** Split the data into training and testing, then report the prediction accuracy of the SVM on the testing part of the data."
   ]
  },
  {
   "cell_type": "code",
   "execution_count": 4,
   "metadata": {},
   "outputs": [],
   "source": [
    "from sklearn import datasets, svm\n",
    "data = datasets.load_breast_cancer()\n",
    "X, y = data.data, data.target    # y will be 0/1, you may map it to -1/+1\n"
   ]
  }
 ],
 "metadata": {
  "kernelspec": {
   "display_name": "stat_207",
   "language": "python",
   "name": "python3"
  },
  "language_info": {
   "codemirror_mode": {
    "name": "ipython",
    "version": 3
   },
   "file_extension": ".py",
   "mimetype": "text/x-python",
   "name": "python",
   "nbconvert_exporter": "python",
   "pygments_lexer": "ipython3",
   "version": "3.11.12"
  }
 },
 "nbformat": 4,
 "nbformat_minor": 2
}
