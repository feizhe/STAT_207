{
 "cells": [
  {
   "cell_type": "markdown",
   "metadata": {},
   "source": [
    "Solving an overdetermined system Xb = y, where X is $n \\times m$. Give detailed derivations to the following questions.\n",
    "\n",
    "a) Count how many multiplications and additions are required to form\n",
    "$X^T X$. (A multiplication or addition such as this is performed in floating\n",
    "point on a computer, so the operation is called a “flop”. Sometimes\n",
    "a flop is considered a combined operation of multiplication and addition;\n",
    "at other times, each is considered a separate flop. The distinction\n",
    "is not important here; just count the total number.)\n",
    "\n",
    "b) Count how many flops are required to form $X^T y$.\n",
    "\n",
    "c) Count how many flops are required to solve $X^T X b = X^T y$ using a\n",
    "Cholesky decomposition.\n",
    "\n",
    "d) Count how many flops are required to form a QR decomposition of $X$\n",
    "using Householder Orthogonalization.\n",
    "\n",
    "e) Count how many flops are required to form $Q^T y$.\n",
    "\n",
    "f) Count how many flops are required to solve $R_1 b = c_1$, where $R_1$ is the upper triangular matrix from the QR decomposition.\n",
    "\n",
    "g) If $n$ is large relative to $m$, what is the ratio of the total number of flops\n",
    "required to form and solve the normal equations using the Cholesky\n",
    "method to the total number required to solve the system using a QR\n",
    "decomposition? Why is the QR method generally preferred?"
   ]
  }
 ],
 "metadata": {
  "kernelspec": {
   "display_name": "stat_207",
   "language": "python",
   "name": "python3"
  },
  "language_info": {
   "codemirror_mode": {
    "name": "ipython",
    "version": 3
   },
   "file_extension": ".py",
   "mimetype": "text/x-python",
   "name": "python",
   "nbconvert_exporter": "python",
   "pygments_lexer": "ipython3",
   "version": "3.10.8"
  }
 },
 "nbformat": 4,
 "nbformat_minor": 2
}
