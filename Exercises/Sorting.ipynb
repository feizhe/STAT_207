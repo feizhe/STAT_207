{
 "cells": [
  {
   "cell_type": "markdown",
   "metadata": {},
   "source": [
    "## Sorting"
   ]
  },
  {
   "cell_type": "markdown",
   "metadata": {},
   "source": [
    "If you have to search a sequence container repeatedly, it is more efficient to first sort, then use a bisection algorithm.\n",
    "\n",
    "- Initial sort takes $n \\log n$ time\n",
    "- Subsequent searches takes $\\log n$\n",
    "- Total time is $n \\log n + k \\log n$ versus $k \\times n/2$"
   ]
  },
  {
   "cell_type": "code",
   "execution_count": 21,
   "metadata": {},
   "outputs": [],
   "source": [
    "import numpy as np\n",
    "n = 10000\n",
    "testx = np.random.randint(0, 2*n, 1000)"
   ]
  },
  {
   "cell_type": "code",
   "execution_count": 22,
   "metadata": {},
   "outputs": [
    {
     "data": {
      "text/plain": [
       "array([12686,  6985,   808, 14070,  1189, 16798,  9300,  4501,  3221,\n",
       "       16450])"
      ]
     },
     "execution_count": 22,
     "metadata": {},
     "output_type": "execute_result"
    }
   ],
   "source": [
    "testx[:10]"
   ]
  },
  {
   "cell_type": "code",
   "execution_count": 23,
   "metadata": {},
   "outputs": [
    {
     "name": "stdout",
     "output_type": "stream",
     "text": [
      "535\n",
      "CPU times: user 141 ms, sys: 2.37 ms, total: 144 ms\n",
      "Wall time: 170 ms\n"
     ]
    }
   ],
   "source": [
    "%%time\n",
    "\n",
    "n = 10000\n",
    "xs  = list(range(n))\n",
    "hits = 0\n",
    "for x in testx:\n",
    "    if x in xs:\n",
    "        hits += 1\n",
    "print(hits)"
   ]
  },
  {
   "cell_type": "code",
   "execution_count": 24,
   "metadata": {},
   "outputs": [],
   "source": [
    "import bisect"
   ]
  },
  {
   "cell_type": "code",
   "execution_count": 25,
   "metadata": {},
   "outputs": [
    {
     "name": "stdout",
     "output_type": "stream",
     "text": [
      "Help on built-in function bisect_right in module _bisect:\n",
      "\n",
      "bisect_right(a, x, lo=0, hi=None, *, key=None)\n",
      "    Return the index where to insert item x in list a, assuming a is sorted.\n",
      "    \n",
      "    The return value i is such that all e in a[:i] have e <= x, and all e in\n",
      "    a[i:] have e > x.  So if x already appears in the list, a.insert(i, x) will\n",
      "    insert just after the rightmost x already there.\n",
      "    \n",
      "    Optional args lo (default 0) and hi (default len(a)) bound the\n",
      "    slice of a to be searched.\n",
      "\n"
     ]
    }
   ],
   "source": [
    "help(bisect.bisect)"
   ]
  },
  {
   "cell_type": "code",
   "execution_count": 26,
   "metadata": {},
   "outputs": [
    {
     "name": "stdout",
     "output_type": "stream",
     "text": [
      "535\n",
      "CPU times: user 599 μs, sys: 103 μs, total: 702 μs\n",
      "Wall time: 702 μs\n"
     ]
    }
   ],
   "source": [
    "%%time\n",
    "\n",
    "n = 10000\n",
    "xs  = list(range(n))\n",
    "xs.sort()\n",
    "hits = 0\n",
    "for x in testx:\n",
    "    if bisect.bisect(xs, x) != n:\n",
    "        hits += 1\n",
    "print(hits)"
   ]
  },
  {
   "cell_type": "markdown",
   "metadata": {},
   "source": [
    "### Sorting algorithms\n",
    "\n",
    "Generally, use the sort function provided by the language (e.g. `sort`, `sorteed`). However sort functions are useful to illustrate algorithmic concepts such as in-place editing, recursion and algorithmic complexity, and you should know how to write simple sort functions.\n",
    "\n",
    "- How much memory does the sort use?\n",
    "- What is its big O complexity class?\n",
    "- Is it iterative or recursive? (note - all recursive algorithm have an iterative equivalent, but some (e.g. quicksort) are easier to think of in a recursive way."
   ]
  },
  {
   "cell_type": "markdown",
   "metadata": {},
   "source": [
    "#### Bubble sort\n",
    "\n",
    "The ideas is to \"bubble\" numbers from left to right by repeated swapping with neighbors until neighbor to the right is larger."
   ]
  },
  {
   "cell_type": "code",
   "execution_count": 27,
   "metadata": {},
   "outputs": [],
   "source": [
    "def bubblesort(xs):\n",
    "    \"\"\"Bubble sort.\"\"\"\n",
    "    \n",
    "    n = len(xs)\n",
    "    for i in range(n):\n",
    "        print(xs)\n",
    "        for j in range(i+1, n):\n",
    "            if xs[i] > xs[j]:\n",
    "                xs[i], xs[j] = xs[j], xs[i]"
   ]
  },
  {
   "cell_type": "code",
   "execution_count": 28,
   "metadata": {},
   "outputs": [
    {
     "name": "stdout",
     "output_type": "stream",
     "text": [
      "[5, 1, 3, 4, 2]\n",
      "[1, 5, 3, 4, 2]\n",
      "[1, 2, 5, 4, 3]\n",
      "[1, 2, 3, 5, 4]\n",
      "[1, 2, 3, 4, 5]\n"
     ]
    },
    {
     "data": {
      "text/plain": [
       "[1, 2, 3, 4, 5]"
      ]
     },
     "execution_count": 28,
     "metadata": {},
     "output_type": "execute_result"
    }
   ],
   "source": [
    "xs = [5,1,3,4,2]\n",
    "bubblesort(xs)\n",
    "xs"
   ]
  },
  {
   "cell_type": "markdown",
   "metadata": {},
   "source": [
    "#### Selection sort\n",
    "\n",
    "From left to right, repeat looking for the minimum number in the unsorted part and put it in its correct place."
   ]
  },
  {
   "cell_type": "code",
   "execution_count": 29,
   "metadata": {},
   "outputs": [],
   "source": [
    "def selectionsort(xs):\n",
    "    \"\"\"Selection sort.\"\"\"\n",
    "    \n",
    "    n = len(xs)\n",
    "    for i in range(n):\n",
    "        best = xs[i]\n",
    "        idx = i\n",
    "        print(xs)\n",
    "        for j in range(i+1, n):\n",
    "            if xs[j] < best:\n",
    "                best = xs[j]\n",
    "                idx = j\n",
    "        xs[i], xs[idx] = xs[idx], xs[i]"
   ]
  },
  {
   "cell_type": "code",
   "execution_count": 30,
   "metadata": {},
   "outputs": [
    {
     "name": "stdout",
     "output_type": "stream",
     "text": [
      "[5, 1, 3, 4, 2]\n",
      "[1, 5, 3, 4, 2]\n",
      "[1, 2, 3, 4, 5]\n",
      "[1, 2, 3, 4, 5]\n",
      "[1, 2, 3, 4, 5]\n"
     ]
    },
    {
     "data": {
      "text/plain": [
       "[1, 2, 3, 4, 5]"
      ]
     },
     "execution_count": 30,
     "metadata": {},
     "output_type": "execute_result"
    }
   ],
   "source": [
    "xs = [5,1,3,4,2]\n",
    "selectionsort(xs)\n",
    "xs"
   ]
  },
  {
   "cell_type": "markdown",
   "metadata": {},
   "source": [
    "#### Quicksort\n",
    "\n",
    "This is an example of how recursion can be a useful tool for developing algorithms. Given an unsorted list, the ideas is this:\n",
    "\n",
    "- If the list is sorted, return the list\n",
    "- Pick a random number from the list\n",
    "- Put all smaller numbers to the left and all numbers and all larger numbers to the right\n",
    "- Repeat for list of smaller numbers and list of larger numbers\n",
    "\n",
    "Base case:\n",
    "\n",
    "- A list with 0 or 1 elements is sorted"
   ]
  },
  {
   "cell_type": "code",
   "execution_count": 31,
   "metadata": {},
   "outputs": [],
   "source": [
    "def quicksort(xs):\n",
    "    \"\"\"Quicksort.\"\"\"\n",
    "    \n",
    "    if len(xs) < 2:\n",
    "        return xs\n",
    "    else:\n",
    "        pivot = xs[0]\n",
    "        left = [x for x in xs[1:] if x <= pivot]\n",
    "        right = [x for x in xs[1:] if x > pivot]\n",
    "        print(pivot, left, right)\n",
    "        return quicksort(left) + [pivot] + quicksort(right)"
   ]
  },
  {
   "cell_type": "code",
   "execution_count": 32,
   "metadata": {},
   "outputs": [
    {
     "name": "stdout",
     "output_type": "stream",
     "text": [
      "5 [1, 3, 4, 2] []\n",
      "1 [] [3, 4, 2]\n",
      "3 [2] [4]\n"
     ]
    },
    {
     "data": {
      "text/plain": [
       "[1, 2, 3, 4, 5]"
      ]
     },
     "execution_count": 32,
     "metadata": {},
     "output_type": "execute_result"
    }
   ],
   "source": [
    "xs = [5,1,3,4,2]\n",
    "quicksort(xs)"
   ]
  }
 ],
 "metadata": {
  "kernelspec": {
   "display_name": "stat_207",
   "language": "python",
   "name": "python3"
  },
  "language_info": {
   "codemirror_mode": {
    "name": "ipython",
    "version": 3
   },
   "file_extension": ".py",
   "mimetype": "text/x-python",
   "name": "python",
   "nbconvert_exporter": "python",
   "pygments_lexer": "ipython3",
   "version": "3.10.8"
  }
 },
 "nbformat": 4,
 "nbformat_minor": 2
}
