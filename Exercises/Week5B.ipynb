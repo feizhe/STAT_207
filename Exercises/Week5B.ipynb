{
 "cells": [
  {
   "cell_type": "markdown",
   "metadata": {},
   "source": [
    "# Modified Gram-Schmidt\n",
    "\n",
    "Implement the Modified Gram-Schmidt method with explanations, \n",
    "\n",
    "a. solve the following linear regression problem;\n",
    "\n",
    "b. give an example when the Gram-Schmidt method would fail."
   ]
  },
  {
   "cell_type": "code",
   "execution_count": 2,
   "metadata": {},
   "outputs": [
    {
     "name": "stdout",
     "output_type": "stream",
     "text": [
      "(200, 20)\n"
     ]
    }
   ],
   "source": [
    "import numpy as np\n",
    "import pandas as pd\n",
    "\n",
    "# Set random seed for reproducibility\n",
    "np.random.seed(22)\n",
    "\n",
    "# Parameters\n",
    "n = 200  # number of observations\n",
    "p = 20   # number of predictors\n",
    "\n",
    "# Simulate predictor matrix X from standard normal distribution\n",
    "X = np.random.randn(n, p)\n",
    "\n",
    "# Simulate true coefficients beta (can be sparse or dense)\n",
    "beta_true = np.random.randn(p)\n",
    "\n",
    "# Simulate noise\n",
    "epsilon = np.random.randn(n) * 0.5  # standard deviation of noise\n",
    "\n",
    "# Generate response variable y\n",
    "y = X @ beta_true + epsilon\n",
    "\n",
    "print(X.shape)  # Check the shape of y"
   ]
  },
  {
   "cell_type": "code",
   "execution_count": null,
   "metadata": {},
   "outputs": [],
   "source": []
  }
 ],
 "metadata": {
  "kernelspec": {
   "display_name": "stat_207",
   "language": "python",
   "name": "python3"
  },
  "language_info": {
   "codemirror_mode": {
    "name": "ipython",
    "version": 3
   },
   "file_extension": ".py",
   "mimetype": "text/x-python",
   "name": "python",
   "nbconvert_exporter": "python",
   "pygments_lexer": "ipython3",
   "version": "3.10.8"
  }
 },
 "nbformat": 4,
 "nbformat_minor": 2
}
