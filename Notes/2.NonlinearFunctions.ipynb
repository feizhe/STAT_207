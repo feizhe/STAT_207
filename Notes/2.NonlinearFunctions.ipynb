{
 "cells": [
  {
   "cell_type": "markdown",
   "id": "f64252c7",
   "metadata": {},
   "source": [
    "# STAT 207: Solution of Nonlinear Equations\n",
    "\n",
    "### Zhe Fei (zhe.fei@ucr.edu)\n",
    "\n",
    "- NAS Chapter 5"
   ]
  },
  {
   "cell_type": "markdown",
   "id": "6925f5ef",
   "metadata": {},
   "source": [
    "Solving linear and nonlinear equations is a major preoccupation of applied\n",
    "mathematics and statistics.\n",
    "\n",
    "Three simple techniques:\n",
    "\n",
    "- bisection, \n",
    "\n",
    "- functional iteration, \n",
    "\n",
    "- Newton’s method.\n",
    "\n",
    "The latter two generalize to higher-dimensional problems."
   ]
  },
  {
   "cell_type": "markdown",
   "id": "14d6aeeb",
   "metadata": {},
   "source": [
    "## The Balance Scale Challenge: \n",
    "\n",
    "Among 8 apples, there is one bad apple that is heavier than all others. You can use a balance scale to compare groups of objects, what is the minimum number of weighings (comparisons) needed to identify the bad apple."
   ]
  },
  {
   "cell_type": "markdown",
   "id": "942d9074",
   "metadata": {},
   "source": [
    "## Bisection\n",
    "\n",
    "- To find solutions to the equation $g(x) = 0$.\n",
    "\n",
    "- Does not require derivatives.\n",
    "\n",
    "- Under minimal assumptions on $g(x)$, bisection is guaranteed to converge to some root.\n",
    "\n",
    "Suppose that $g(x)$ is continuous, and an interval $[a, b]$ has been identified such that $g(a)$ and $g(b)$ are of opposite sign.\n",
    "\n",
    "<div style=\"height: 20mm;\"></div>\n",
    "\n",
    "\n",
    "- If we bisect $[a, b]$ a total of $n$ times, then the final bracketing interval has length $2^{-n}(b-a)$. \n",
    "\n",
    "- For $n$ large enough, we can stop and approximate the bracketed root by the midpoint of the final bracketing interval. \n",
    "\n",
    "- If we want to locate nearly all of the roots of $g(x)$ on $[a, b]$, then we can subdivide $[a, b]$ into many small adjacent intervals and apply bisection to each small interval in turn.\n",
    "\n",
    "\n",
    "### Computation of Quantiles by Bisection\n",
    "\n",
    "Given a continuous distribution function $F(x)$, find the $\\alpha$-quantile of $F(x)$ is equivalent to solving the equation\n",
    "$$\n",
    "g(x) = F(x) - \\alpha = 0.\n",
    "$$\n",
    "\n",
    "To find a bracketing interval to start the process:\n",
    "\n",
    "- take an arbitrary initial point $a$ and examine $g(a)$,\n",
    "\n",
    "- if $g(a)<0$, then look for the first positive integer $k$ with $g(a + k) > 0$. When this integer is found, the interval $[a + k − 1, a + k]$ brackets the  $\\alpha$-quantile,\n",
    "\n",
    "- if $g(a)>0$, then look for the first negative integer $k$ with $g(a + k) < 0$, and $[a + k, a + k + 1]$ brackets the  $\\alpha$-quantile,\n",
    "\n",
    "\n",
    "Why this $k$ is garenteed to be found?\n",
    "\n",
    "- $a$ can be the mean,\n",
    "\n",
    "- the increment can be the standard deviation of $F(x)$."
   ]
  },
  {
   "cell_type": "code",
   "execution_count": 3,
   "id": "e4029478",
   "metadata": {},
   "outputs": [],
   "source": [
    "import scipy.stats as stats\n",
    "import math"
   ]
  },
  {
   "cell_type": "code",
   "execution_count": 4,
   "id": "effc8af2",
   "metadata": {},
   "outputs": [],
   "source": [
    "def t_dist_prob(t, n):\n",
    "    return 1 - stats.t.cdf(t, n)\n",
    "\n",
    "n = 5\n",
    "prob = 0.95\n",
    "a = 0\n",
    "k = math.sqrt(n/(n-2))\n",
    "k\n",
    "\n",
    "def find_b(f, a, k):\n",
    "    fa = f(a)\n",
    "    if fa > 0:\n",
    "        k = -k\n",
    "    b = a+k\n",
    "    fb = f(b)\n",
    "    while fa * fb >= 0:\n",
    "        b = b+k\n",
    "        fb = f(b)\n",
    "    return b\n",
    "\n",
    "def bisection(f, a, b, tol=1e-6):\n",
    "    fa, fb = f(a), f(b)\n",
    "    assert fa * fb < 0, \"f(a) and f(b) must have opposite signs\"\n",
    "    while b - a > tol:\n",
    "        c = (a + b) / 2\n",
    "        fc = f(c)\n",
    "        if fc == 0:\n",
    "            return c\n",
    "        elif fa * fc < 0:\n",
    "            b, fb = c, fc\n",
    "        else:\n",
    "            a, fa = c, fc\n",
    "    return (a + b) / 2"
   ]
  },
  {
   "cell_type": "code",
   "execution_count": 6,
   "id": "548aaaee",
   "metadata": {},
   "outputs": [
    {
     "name": "stdout",
     "output_type": "stream",
     "text": [
      "1.2909944487358056\n"
     ]
    },
    {
     "data": {
      "text/plain": [
       "2.581988897471611"
      ]
     },
     "execution_count": 6,
     "metadata": {},
     "output_type": "execute_result"
    }
   ],
   "source": [
    "f = lambda t: stats.t.cdf(t, n) - prob ## anonymous function\n",
    "n = 5\n",
    "prob = 0.95\n",
    "a = 0\n",
    "k = math.sqrt(n/(n-2))\n",
    "print(k)\n",
    "b = find_b(f,a,k)\n",
    "b"
   ]
  },
  {
   "cell_type": "code",
   "execution_count": 4,
   "id": "635d32fe",
   "metadata": {},
   "outputs": [
    {
     "name": "stdout",
     "output_type": "stream",
     "text": [
      "The 0.95 quantile of the t-distribution with n=5 degrees of freedom is: 2.015048562682933\n"
     ]
    }
   ],
   "source": [
    "a = b-k\n",
    "\n",
    "t_star = bisection(f, a, b)\n",
    "\n",
    "print(\"The 0.95 quantile of the t-distribution with n=5 degrees of freedom is:\", t_star)"
   ]
  },
  {
   "cell_type": "markdown",
   "id": "aecbc310",
   "metadata": {},
   "source": [
    "## Functional Iteration\n",
    "\n",
    "We are interested in finding a root of the equation $g(x) = 0$, and let $f(x) = g(x) + x$, then this equation is trivially equivalent to the equation $x = f(x)$.\n",
    "\n",
    "In many examples, the iterates $x_n = f(x_{n−1})$ converge to a root of $g(x)$ starting from any point $x_0$ nearby.\n",
    "\n",
    "A root of $g(x)$ is said to be a **fixed point** of $f(x)$. \n",
    "\n",
    "Precise sufficient conditions for the existence of a unique fixed point of $f(x)$ and convergence to it are\n",
    "offered by the following proposition.\n",
    "\n",
    "\n",
    "**(NAS) Proposition 5.3.1** Suppose the function $f(x)$ defined on a closed interval $I$ satisfies the conditions:\n",
    "\n",
    "(a) $f(x) \\in I$ whenever $x \\in I$,\n",
    "\n",
    "(b) $|f(y) − f(x)| \\leq \\lambda |y − x|$ for any two points $x$ and $y$ in $I$.\n",
    "\n",
    "Then, provided the Lipschitz constant $\\lambda$ is in $[0, 1)$, $f(x)$ has a unique fixed point $x_\\infty \\in I$, and the functional iterates $x_n = f(x_{n-1})$ converge to $x_\\infty$ regardless of their starting point $x_0 \\in I$. Furthermore, we have the precise error estimate:\n",
    "\n",
    "$|x_n - x_\\infty| \\leq \\frac{\\lambda^n}{1 - \\lambda}|x_1 - x_0|$.\n"
   ]
  },
  {
   "cell_type": "markdown",
   "id": "acb2947b",
   "metadata": {},
   "source": [
    "A function $f(x)$ having a Lipschitz constant $\\lambda < 1$ is said to be *contractive*. \n",
    "In practice,  $\\lambda$ is taken to be any convenient upper bound of $|f'(x)|$ on the interval $I$. \n",
    "Such a choice is valid because of the mean value equality $f(x) − f(y) = f'(z)(x − y)$, where $z$ is some number between $x$ and $y$. \n",
    "\n",
    "- A fixed point $x_\\infty$ with $|f'(x_\\infty)| < 1$ is called attractive, \n",
    "\n",
    "   - If $f'(x_\\infty) \\in (-1,0)$,\n",
    "   \n",
    "   - If $f'(x_\\infty) \\in (0,1)$,\n",
    "\n",
    "- If $|f'(x_\\infty)| > 1$, $x_\\infty$ is said to be repelling.\n",
    "\n",
    "- The case $|f'(x_\\infty)| = 1$ is indeterminate.\n",
    "\n"
   ]
  },
  {
   "cell_type": "markdown",
   "id": "86099222",
   "metadata": {},
   "source": [
    "### Fractional Linear Transformations\n",
    "\n",
    "Finding a real root of $x = f(x)$ by functional iteration, where \n",
    "$$\n",
    "f(x) = \\frac{ax+b}{cx+d}.\n",
    "$$\n",
    "\n",
    "### Example: Extinction Probabilities by Functional Iteration\n",
    "\n",
    "A branching process is when particles reproduce independently at the end of each generation based on the same probabilistic law.\n",
    "\n",
    "The probability that a particle is replaced by $k$ daughter particles at the next generation is denoted by $p_k$.\n",
    "\n",
    "The goal is to find the probability $s_\\infty$ that the process eventually goes extinct, given that it starts with a single particle at generation 0. \n",
    "\n",
    "Conditional on the number of daughter particles $k$ born to the initial particle, if extinction is to occur, then each line of descent emanating from a daughter particle must die out.By independence of reproduction, all $k$ lines of descent go extinct with probability $s_\\infty^k$.\n",
    "\n",
    "It follows that $s_\\infty^k$ satisfies the functional equation \n",
    "$$\n",
    "s = \\sum_{k=0}^{\\infty} p_k s^k = P(s),\n",
    "$$\n",
    "where $P(s)$ is the generating function of the progeny distribution.\n",
    "\n",
    "\n",
    "<div style=\"height: 25mm;\"></div>\n",
    "\n",
    "\n",
    "Let $s_n$ be the probability that extinction occurs in the branching\n",
    "process at or before generation $n$. \n",
    "\n",
    "Then $s_0 = 0, s_1 = p_0 = P(s_0)$, and, in general, $s_{n+1} = P(s_n)$. \n",
    "\n",
    "Since $P''(s) = \\sum_{k=2}^{\\infty}k(k-1)p_{k}s^{k-2} \\ge 0$, the curve $P(s)$ is convex.\n",
    "\n"
   ]
  },
  {
   "cell_type": "code",
   "execution_count": 5,
   "id": "f8dd92d5",
   "metadata": {},
   "outputs": [
    {
     "data": {
      "image/png": "[encoded data removed]",
      "text/plain": [
       "<Figure size 640x480 with 1 Axes>"
      ]
     },
     "metadata": {},
     "output_type": "display_data"
    }
   ],
   "source": [
    "import numpy as np\n",
    "import matplotlib.pyplot as plt\n",
    "\n",
    "# Define p(s) as a convex function\n",
    "def p(s):\n",
    "    return s**2 + 0.2 - 0.2*s\n",
    "\n",
    "# Create an array of s values between 0 and 1\n",
    "s = np.linspace(0, 1, 100)\n",
    "\n",
    "# Plot p(s) and the diagonal line y = x\n",
    "plt.plot(s, p(s), label='p(s)')\n",
    "plt.plot(s, s, label='y = x', linestyle='--')\n",
    "\n",
    "# Add labels and legend\n",
    "plt.xlabel('s')\n",
    "plt.ylabel('p(s)')\n",
    "plt.legend()\n",
    "\n",
    "# Show the plot\n",
    "plt.show()\n"
   ]
  },
  {
   "cell_type": "markdown",
   "id": "53a2f7d0",
   "metadata": {},
   "source": [
    "There is a second intersection point to the left of $s = 1$ if and\n",
    "only if the slope of $P(s)$ at $s = 1$ is strictly greater than 1.\n",
    "\n",
    "The slope $P'(1) = \\sum_{k=0} kp_k$ equals the mean number of particles of the progeny distribution.\n",
    "\n",
    "- $P'(1) \\le 1$\n",
    "\n",
    "- $P'(1) >1$\n",
    "\n",
    "\n",
    "**HW** Program the functional iteration for an extinction probability of surnames among white males in the United States.\n"
   ]
  },
  {
   "cell_type": "markdown",
   "id": "339bed34",
   "metadata": {},
   "source": [
    "## Newton’s Method\n",
    "\n",
    "Newton’s method can be motivated by the mean value theorem.\n",
    "\n",
    "Let $x_{n−1}$ approximate the root $x_\\infty$ of the equation $g(x) = 0$. \n",
    "$$\n",
    "g(x_{n−1}) = g(x_{n−1}) − g(x_\\infty)\n",
    "= g'(z)(x_{n−1} − x_\\infty),\n",
    "$$\n",
    "for some $z$ between $x_{n−1}$ and $x_\\infty$.\n",
    "\n",
    "We can define the update\n",
    "$$\n",
    "x_n = x_{n-1} - \\frac{g(x_{n−1})}{g'(x_{n−1})} = f(x_{n−1}),\n",
    "$$\n",
    "by substituting $x_{n-1}$ for $z$.\n",
    "\n",
    "\n",
    "**When does Newton's Method work?**\n",
    "\n",
    "    \n",
    "The local convergence properties follow from\n",
    "\n",
    "<div style=\"text-align: left\">\n",
    "\n",
    "$$\\begin{aligned}\n",
    " f'(x_\\infty) = &\\\\\n",
    "\\end{aligned}$$\n",
    "</div>\n",
    "    \n",
    "<div style=\"height: 20mm;\"></div>\n",
    "\n",
    "Further let $e_n = x_n - x_\\infty$, with a second-order Taylor expansion around $x_\\infty$,\n",
    "$$\\begin{aligned}\n",
    "e_n = &\\\\\n",
    "\\end{aligned}$$\n",
    "\n",
    "<div style=\"height: 25mm;\"></div>\n",
    "\n",
    "We have the **quadratic convergence**\n",
    "$$\n",
    "\\lim_{n \\rightarrow \\infty} \\frac{e_n}{e_{n-1}^2} = \\frac{1}{2} f''(x_\\infty).\n",
    "$$\n",
    "All else being equal, quadratic convergence is preferred to linear convergence.\n",
    "\n",
    "The following two examples highlight favorable circumstances ensuring global convergence of\n",
    "Newton’s method on a properly defined domain."
   ]
  },
  {
   "cell_type": "markdown",
   "id": "f8b85f6b",
   "metadata": {},
   "source": [
    "### Division without Dividing\n",
    "\n",
    "Forming the reciprocal of a number `a` is equivalent to solving for a root of\n",
    "the equation $g(x) = a - x^{-1}$. Newton’s method iterates according to\n",
    "$$\\begin{aligned}\n",
    "x_n =& x_{n-1} - \\frac{a - x_{n-1}^{-1}}{x_{n-1}^{-2} } \\\\\n",
    "=& x_{n-1}(2 - ax_{n-1}),\n",
    "\\end{aligned}$$\n",
    "which involves multiplication and subtraction but no division.\n",
    "\n",
    "- if $x_0 \\in (0, 1/a)$\n",
    "\n",
    "- if $x_0 \\in [1/a, 2/a)$\n",
    "\n",
    "\n",
    "### Extinction Probabilities by Newton’s Method\n",
    "\n",
    "Newton’s method starts with $x_0 = 0$ and iterates according to\n",
    "\n",
    "$$x_n = x_{n-1} + \\frac{P(x_{n-1})-x_{n-1}}{1-P'(x_{n-1})}$$\n",
    "\n",
    "**How it is guaranteed that no division by 0 in the Newton’s iterates?**\n",
    "\n",
    "Compared to the sequence $s_n = P(s_{n−1})$ generated by functional iteration, both schemes start at 0.\n",
    "**Can you show by induction that (a) $x_n\\le s_\\infty$, (b) $x_{n−1} \\le x_n$, and (c) $s_n \\le x_n$ hold\n",
    "for all $n>0$?**\n",
    "\n",
    "Given these properties, Newton’s method typically converges much faster than functional iteration."
   ]
  },
  {
   "cell_type": "markdown",
   "id": "6a1c3c68",
   "metadata": {},
   "source": [
    "### Golden Section Search\n",
    "\n",
    "A simple numerical algorithm for minimization.\n",
    "\n",
    "- Golden section search is reliable and applies to any continuous function $f(x)$. \n",
    "\n",
    "- It cannot generalize to higher dimensions and its relatively slow rate of convergence.\n",
    "\n",
    "Golden section search:\n",
    "\n",
    "- start with three points $a < b < c$ satisfying $f(b) < \\min\\{f(a), f(c) \\}$,\n",
    "\n",
    "- find the next bracketing interval that contains the minimum with $a < b < d$ or $b < d < c$.\n",
    "    \n",
    "\n",
    "Consider the function $f(x) = −7 \\ln x − 3 \\ln(1 − x)$."
   ]
  },
  {
   "cell_type": "code",
   "execution_count": 6,
   "id": "d2ebba3a",
   "metadata": {},
   "outputs": [
    {
     "data": {
      "image/png": "[encoded data removed]",
      "text/plain": [
       "<Figure size 640x480 with 1 Axes>"
      ]
     },
     "metadata": {},
     "output_type": "display_data"
    }
   ],
   "source": [
    "import numpy as np\n",
    "import matplotlib.pyplot as plt\n",
    "\n",
    "# Define the function to plot\n",
    "def f(x):\n",
    "    return -7 * np.log(x) - 3 * np.log(1 - x)\n",
    "\n",
    "# Create an array of x values between 0 and 1\n",
    "x = np.linspace(0.001, 0.999, 1000)\n",
    "\n",
    "# Plot the function\n",
    "plt.plot(x, f(x))\n",
    "\n",
    "# Set the title and labels\n",
    "plt.title('Plot of f(x) = −7 ln(x) − 3 ln(1 − x)')\n",
    "plt.xlabel('x')\n",
    "plt.ylabel('f(x)')\n",
    "\n",
    "# Show the plot\n",
    "plt.show()\n"
   ]
  },
  {
   "cell_type": "code",
   "execution_count": 7,
   "id": "9ace2c4d",
   "metadata": {
    "scrolled": true
   },
   "outputs": [
    {
     "name": "stdout",
     "output_type": "stream",
     "text": [
      "[0.3843266910251031, 0.6156733089748969, 0.99]\n",
      "[0.6156733089748969, 0.758653382050206, 0.99]\n",
      "[0.6156733089748969, 0.7040398538493817, 0.8470199269246909]\n",
      "[0.6156733089748969, 0.6702868371757214, 0.758653382050206]\n",
      "[0.6702868371757214, 0.7040398538493817, 0.758653382050206]\n",
      "[0.6702868371757214, 0.6911473487028853, 0.7249003653765457]\n",
      "[0.6911473487028853, 0.7040398538493816, 0.7249003653765457]\n",
      "[0.6911473487028853, 0.699115355083553, 0.7120078602300494]\n",
      "[0.6911473487028853, 0.696071847468714, 0.7040398538493816]\n",
      "[0.696071847468714, 0.6991153550835529, 0.7040398538493816]\n",
      "[0.696071847468714, 0.6979528386197036, 0.7009963462345427]\n",
      "[0.6979528386197036, 0.6991153550835529, 0.7009963462345427]\n",
      "[0.6991153550835529, 0.6998338297706932, 0.7009963462345427]\n",
      "[0.6991153550835529, 0.6995593968602621, 0.7002778715474024]\n",
      "[0.6995593968602621, 0.6998338297706933, 0.7002778715474024]\n",
      "[0.6998338297706933, 0.7000034386369713, 0.7002778715474024]\n",
      "[0.6998338297706933, 0.6999386538148464, 0.7001082626811244]\n",
      "[0.6999386538148464, 0.7000034386369712, 0.7001082626811244]\n",
      "[0.6999386538148464, 0.6999786930368747, 0.7000434778589996]\n",
      "[0.6999786930368747, 0.7000034386369712, 0.7000434778589996]\n",
      "[0.6999786930368747, 0.6999939866588064, 0.700018732258903]\n",
      "[0.6999939866588064, 0.7000034386369713, 0.700018732258903]\n",
      "[0.6999939866588064, 0.6999998283025732, 0.700009280280738]\n",
      "[0.6999939866588064, 0.6999975969932044, 0.7000034386369712]\n",
      "[0.6999975969932044, 0.6999998283025731, 0.7000034386369712]\n",
      "[0.6999975969932044, 0.6999989760182337, 0.7000012073276025]\n",
      "x_min = 0.6999994021604035\n",
      "f(x_min) = 6.1086430205574445\n"
     ]
    }
   ],
   "source": [
    "import math\n",
    "\n",
    "def f(x):\n",
    "    return -7 * math.log(x) - 3 * math.log(1 - x)\n",
    "\n",
    "def golden_section_search(f, a, b, tol=1e-6):\n",
    "    gr = (math.sqrt(5) + 1) / 2  # golden ratio\n",
    "    c = b - (b - a) / gr\n",
    "    d = a + (b - a) / gr\n",
    "    while abs(c - d) > tol:\n",
    "        if f(c) < f(d):\n",
    "            b = d\n",
    "        else:\n",
    "            a = c\n",
    "        c = b - (b - a) / gr\n",
    "        d = a + (b - a) / gr\n",
    "        print([a,c,b])\n",
    "    return (b + a) / 2\n",
    "\n",
    "# find the minimum of f(x) on [0, 1]\n",
    "x_min = golden_section_search(f, 0.01, 0.99)\n",
    "print(\"x_min =\", x_min)\n",
    "print(\"f(x_min) =\", f(x_min))\n"
   ]
  },
  {
   "cell_type": "markdown",
   "id": "5608ec7f",
   "metadata": {},
   "source": [
    "### Minimization by Cubic Interpolation\n",
    "\n",
    "Cubic interpolation offers a faster but less reliable method of minimization\n",
    "than golden section search.\n",
    "\n",
    "The idea is to fit a cubic polynomial to three points in the function (or four values $f(x)$ and $f'(x)$ of two points), and then finding the minimum of that polynomial. It then replaces the worst point with the new point, and continues the process until convergence."
   ]
  },
  {
   "cell_type": "code",
   "execution_count": 8,
   "id": "7fd96890",
   "metadata": {},
   "outputs": [],
   "source": [
    "# Define the cubic interpolation function\n",
    "def cubic_interpolation(f, x0, x1, x2, tol):\n",
    "    # Iterate until convergence\n",
    "    while abs(x2 - x0) > tol:\n",
    "        f0, f1, f2 = f(x0), f(x1), f(x2)\n",
    "        \n",
    "        # Compute the cubic interpolation point\n",
    "        a = f0\n",
    "        b = (f1 - f0) / (x1 - x0)\n",
    "        c = ((f2 - f0) / (x2 - x0) - b) / (x2 - x1)\n",
    "        x = (x0 + x1) / 2 - b / (2 * c)\n",
    "        \n",
    "        # Evaluate the function at the new point\n",
    "        fx = f(x)\n",
    "        # Update the bracketing points\n",
    "        if x < x1:\n",
    "            if fx < f1:\n",
    "                x2, x1, x0 = x1, x, x0\n",
    "                f2, f1, f0 = f1, fx, f0\n",
    "            else:\n",
    "                x0 = x\n",
    "                f0 = fx\n",
    "        else:\n",
    "            if fx < f1:\n",
    "                x0, x1, x2 = x1, x, x2\n",
    "                f0, f1, f2 = f1, fx, f2\n",
    "            else:\n",
    "                x2 = x\n",
    "                f2 = fx\n",
    "        print([x0,x1,x2])\n",
    "    return x1"
   ]
  },
  {
   "cell_type": "code",
   "execution_count": 9,
   "id": "06be2a8e",
   "metadata": {},
   "outputs": [
    {
     "name": "stdout",
     "output_type": "stream",
     "text": [
      "[0.5, 0.685153578272752, 0.9]\n",
      "[0.6690844407433396, 0.685153578272752, 0.9]\n",
      "[0.685153578272752, 0.6918826232157623, 0.9]\n",
      "[0.6918826232157623, 0.6957839546710956, 0.9]\n",
      "[0.6957839546710956, 0.697698380103852, 0.9]\n",
      "[0.697698380103852, 0.6987730421036226, 0.9]\n",
      "[0.6987730421036226, 0.6993327307919798, 0.9]\n",
      "[0.6993327307919798, 0.6996409149293873, 0.9]\n",
      "[0.6996409149293873, 0.6998051816445571, 0.9]\n",
      "[0.6998051816445571, 0.6998947858117166, 0.9]\n",
      "[0.6998947858117166, 0.6999429869523967, 0.9]\n",
      "[0.6999429869523967, 0.6999691667405551, 0.9]\n",
      "[0.6999691667405551, 0.699983301876257, 0.9]\n",
      "[0.699983301876257, 0.6999909645273977, 0.9]\n",
      "[0.6999909645273977, 0.6999951080155089, 0.9]\n",
      "[0.6999951080155089, 0.6999973523277518, 0.9]\n",
      "[0.6999973523277518, 0.6999985666612467, 0.9]\n",
      "[0.6999985666612467, 0.6999992241811399, 0.9]\n",
      "[0.6999992241811399, 0.6999995800037265, 0.9]\n",
      "[0.6999995800037265, 0.6999997726862445, 0.9]\n",
      "[0.6999997726862445, 0.6999998769093836, 0.9]\n",
      "[0.6999998769093836, 0.6999999333848749, 0.9]\n",
      "[0.6999999333848749, 0.6999999638935326, 0.9]\n",
      "[0.6999999638935326, 0.6999999804676557, 0.9]\n",
      "[0.6999999804676557, 0.6999999889199975, 0.9]\n",
      "[0.6999999889199975, 0.699999995635209, 0.9]\n",
      "[0.699999995635209, 0.6999999957205442, 0.9]\n",
      "[0.699999995635209, 0.6999999957205442, 0.7000001311439525]\n",
      "Minimum point: 0.6999999957205442\n",
      "Minimum value: 6.108643020548935\n"
     ]
    }
   ],
   "source": [
    "# Define initial bracketing points\n",
    "x0 = 0.01\n",
    "x1 = 0.5\n",
    "x2 = 0.9\n",
    "\n",
    "# Set tolerance for convergence\n",
    "tol = 1e-6\n",
    "\n",
    "\n",
    "x1 = cubic_interpolation(f, x0, x1, x2, tol)\n",
    "f1 = f(x1)\n",
    "\n",
    "# Print the minimum point and function value\n",
    "print(\"Minimum point:\", x1)\n",
    "print(\"Minimum value:\", f1)"
   ]
  },
  {
   "cell_type": "markdown",
   "id": "3721b894",
   "metadata": {},
   "source": [
    "### Stopping Criteria\n",
    "\n",
    "In solving a nonlinear equation $g(x) = 0$, one can declare convergence when\n",
    "\n",
    "- $|g(x_n)|$ is small or \n",
    "\n",
    "- $x_n$ does not change much from one iteration to the next\n",
    "\n",
    "\n"
   ]
  },
  {
   "cell_type": "code",
   "execution_count": null,
   "id": "dad1c076",
   "metadata": {},
   "outputs": [],
   "source": []
  }
 ],
 "metadata": {
  "kernelspec": {
   "display_name": "Python 3 (ipykernel)",
   "language": "python",
   "name": "python3"
  },
  "language_info": {
   "codemirror_mode": {
    "name": "ipython",
    "version": 3
   },
   "file_extension": ".py",
   "mimetype": "text/x-python",
   "name": "python",
   "nbconvert_exporter": "python",
   "pygments_lexer": "ipython3",
   "version": "3.10.14"
  }
 },
 "nbformat": 4,
 "nbformat_minor": 5
}
