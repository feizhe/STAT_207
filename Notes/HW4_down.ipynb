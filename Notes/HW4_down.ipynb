{
 "cells": [
  {
   "cell_type": "markdown",
   "id": "3e66f89a-0953-4f3d-8e4a-e56f7c195796",
   "metadata": {},
   "source": [
    "\n",
    "# STAT 207 HW3\n",
    "\n",
    "## Due May 19th\n",
    "\n",
    "## Your Name\n",
    "\n",
    "**All homeworks should be completed independently; make your answers and codes as concise as possible; avoid excessive outputs; submit BOTH your source code and output file to Canvas.**\n",
    "\n",
    "**Please refer to the textbook for full statements of the problems.**\n",
    "\n",
    "## 1. NAS Problem 12.12.15 & 16\n",
    "\n",
    "Solve the multivariate t-distribution with two update approaches.\n",
    "\n",
    "Then implement both update schemes with the following setting and comapre the convergence iterations.\n"
   ]
  },
  {
   "cell_type": "code",
   "execution_count": 1,
   "id": "7bef7d46-47d5-4ad3-b208-8f5b1ee479bd",
   "metadata": {},
   "outputs": [
    {
     "name": "stdout",
     "output_type": "stream",
     "text": [
      "(100, 3)\n"
     ]
    }
   ],
   "source": [
    "import numpy as np\n",
    "from scipy.stats import multivariate_t\n",
    "\n",
    "# Define parameters\n",
    "m = 100 ## number of samples\n",
    "mu = np.array([0, 1, 2])\n",
    "Sigma = np.array([[2, 1, 0.5],\n",
    "                  [1, 2, 1],\n",
    "                  [0.5, 1, 2]])\n",
    "\n",
    "# Generate samples from multivariate t-distribution\n",
    "t_dist = multivariate_t(mu, Sigma, df = 5)\n",
    "\n",
    "samples = t_dist.rvs(size =m)\n",
    "\n",
    "print(samples.shape)  # prints (100, 3)"
   ]
  },
  {
   "cell_type": "markdown",
   "id": "acb3bd6b-ad73-469b-8cb5-aecaea09f8ba",
   "metadata": {},
   "source": [
    "## 2. NAS Problem 12.12.13 & 14\n",
    "\n",
    "Note this problem is solving the so-called quantile regression.\n",
    "\n",
    "## 3. NAS Problem 13.10.8\n",
    "\n",
    "Program the EM updates (13.5) for the ABO allele frequency data ...\n",
    "\n",
    "\n"
   ]
  },
  {
   "cell_type": "code",
   "execution_count": null,
   "id": "e0217a25-11c0-4212-b060-4e284b4b8365",
   "metadata": {},
   "outputs": [],
   "source": []
  }
 ],
 "metadata": {
  "kernelspec": {
   "display_name": "Python 3 (ipykernel)",
   "language": "python",
   "name": "python3"
  },
  "language_info": {
   "codemirror_mode": {
    "name": "ipython",
    "version": 3
   },
   "file_extension": ".py",
   "mimetype": "text/x-python",
   "name": "python",
   "nbconvert_exporter": "python",
   "pygments_lexer": "ipython3",
   "version": "3.10.14"
  }
 },
 "nbformat": 4,
 "nbformat_minor": 5
}
