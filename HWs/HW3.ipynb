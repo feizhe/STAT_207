{
 "cells": [
  {
   "cell_type": "markdown",
   "id": "4b410cb5",
   "metadata": {},
   "source": [
    "\\setcounter{secnumdepth}{0}\n",
    "\n",
    "\n",
    "# STAT 207 HW3\n",
    "\n",
    "## Your Name\n",
    "\n",
    "\n",
    "**All homeworks should be completed independently; make your answers and codes as concise as possible; avoid excessive outputs; submit BOTH your source code and output file to Canvas.**\n",
    "\n",
    "## 1. NAS Problem 8.5.8\n",
    "\n",
    "Implement the following algorithm to find the largest and smallest eigenvalues of $\\Omega$:\n",
    "$$\n",
    "\\Omega = \\begin{bmatrix}\n",
    "10 & 7 & 8 & 7 \\\\\n",
    "7 & 5 & 6 & 5 \\\\\n",
    "8 & 6 & 10 & 9 \\\\\n",
    "7 & 5 & 9 & 10 \\\\\n",
    "\\end{bmatrix}\n",
    "$$\n",
    "\n",
    "Suppose the $m \\times m$ symmetric matrix $A$ has eigenvalues\n",
    "$\\lambda_1 < \\lambda_2 < \\cdots < \\lambda_{m-1} < \\lambda_m$. The iterative scheme $x_{n+1} = (A -\\eta_n I) x_n$ can be used to approximate either $\\lambda_1$ or $\\lambda_m$. Consider the criterion\n",
    "$$\n",
    "\\sigma_n = \\frac{x_{n+1}^T A x_{n+1}}{x_{n+1}^T x_{n+1}}.\n",
    "$$\n",
    "Choosing $\\eta_n$ to maximize $\\sigma_n$ causes $\\lim_{n \\to \\infty} \\sigma_n = \\lambda_m$, while choosing $\\eta_n$ to minimize $\\sigma_n$ causes $\\lim_{n \\to \\infty} \\sigma_n = \\lambda_1$. If $\\tau_k = x_n^T A^k x_n$, then the extrema of $\\sigma_n$ as a function of $\\eta$ can be obtained as the roots of the quadratic equation\n",
    "$$\n",
    "0 = \\det\n",
    "\\begin{bmatrix}\n",
    "1 & \\eta & \\eta^2 \\\\\n",
    "\\tau_0 & \\tau_1 & \\tau_2 \\\\\n",
    "\\tau_1 & \\tau_2 & \\tau_3 \\\\\n",
    "\\end{bmatrix}\n",
    "$$\n"
   ]
  },
  {
   "cell_type": "markdown",
   "id": "e5ea2521",
   "metadata": {},
   "source": [
    "\n",
    "## 2. NAS Problem 11.7.1\n",
    "\n",
    "Which of the following functions is coercive on its domain? Give convincing reasons in each case.\n",
    "\n",
    "...\n",
    "\n",
    "\n",
    "## 3. NAS Problem 11.7.5\n",
    "\n",
    "Find the minima of the functions ...\n",
    "\n",
    "## 4. NAS Problem 11.7.12\n",
    "\n",
    "Minimize the function $f(x) = e^{-(x_1+x_2)}$ subject to the constraints\n",
    "$h_1(x) = e^{x_1} + e^{x_2} - 20 \\le 0$ and $h_2(x) = -x_1 \\le 0$ on $\\mathbb{R}^2$.\n",
    "\n",
    "\n",
    "## 5. CS Problem 6.10\n",
    "\n",
    "Consider the function\n",
    "$$\n",
    "f(x) = x_1^2 + 5x_2^2,\n",
    "$$\n",
    "whose minimum obviously is at $(0,0)$.\n",
    "\n",
    "1. **Plot contours of $f$**. \n",
    "2. **In the steepest descent method, determine the first 10 values of $\\alpha^{(k)}$, $f(x^{(k)})$, $\\nabla f(x^{(k)})$, and $x^{(k)}$**, starting with $x^{(0)} = (5, 1)$. For the step length, use the optimal value (equation (6.25), page 263).\n",
    "3. **Plot contours of the scaled quadratic model (6.34) of $f$ at the point $(5, 1)$**.\n",
    "\n"
   ]
  },
  {
   "cell_type": "code",
   "execution_count": null,
   "id": "11674395",
   "metadata": {},
   "outputs": [],
   "source": []
  }
 ],
 "metadata": {
  "kernelspec": {
   "display_name": "Python 3 (ipykernel)",
   "language": "python",
   "name": "python3"
  },
  "language_info": {
   "codemirror_mode": {
    "name": "ipython",
    "version": 3
   },
   "file_extension": ".py",
   "mimetype": "text/x-python",
   "name": "python",
   "nbconvert_exporter": "python",
   "pygments_lexer": "ipython3",
   "version": "3.10.14"
  }
 },
 "nbformat": 4,
 "nbformat_minor": 5
}
