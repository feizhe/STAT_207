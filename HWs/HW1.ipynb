{
 "cells": [
  {
   "cell_type": "markdown",
   "id": "5d2703b3-1cc8-493a-aacf-22e60fe8fdc2",
   "metadata": {},
   "source": [
    "# STAT 207 HW1\n",
    "## Your Name\n",
    "\n",
    "\n",
    "**Submit BOTH the code (notebook) and output file (html or pdf) to Canvas. All homeworks should be completed independently; make your answers and codes as concise as possible; avoid excessive outputs.**\n",
    "\n",
    "## 1. NAS Problem 1.1\n",
    "\n",
    "Let $f_n$ be the number of subsets of $\\{1, ..., n\\}$ that do not contain two consecutive integers. Show that $f_1 = 2$, $f_2 = 3$, and $f_n = f_{n-1} + f_{n-2}$ for $n > 2$.\n",
    "\n",
    "## 2. NAS Problem 1.2\n",
    "\n",
    "Solve the problem and write an algorithm to calculate $q_{nk}$ for $n=1000,k=100$."
   ]
  },
  {
   "cell_type": "markdown",
   "id": "c45ab53d-c321-4240-9a8f-855fe4d1cc0a",
   "metadata": {},
   "source": [
    "## 3. NAS Problem 1.10\n",
    "Demonstrate that the example in class with integral $y_n$ defined below\n",
    "$$\n",
    "y_n = \\int_0^1 \\frac{x^n}{x+a} dx\n",
    "$$\n",
    "can be expanded in the infinite series\n",
    "$$\n",
    "y_n = \\sum_{k=0}^{\\infty}  \\frac{(-1)^k}{(n+k+1)a^{k+1}}.\n",
    "$$\n",
    "when $a > 1$. This does provide a reasonably stable method of computing\n",
    "$y_n$ for large $a$. Program this solution and find suitable sequence $k$ for $n$."
   ]
  },
  {
   "cell_type": "markdown",
   "id": "8572fbae-3f8f-4d00-904a-453db7aba90e",
   "metadata": {},
   "source": [
    "## 4. NAS Problem 5.8\n",
    "\n",
    "For $0 \\leq a \\leq 4$, the function $f(x) = ax(1-x)$ maps the unit interval $[0,1]$ onto itself. Show that:\n",
    "\n",
    "(a) The point $0$ is a fixed point that is globally attractive when $a \\leq 1$ and locally repelling when $a > 1$. Note that the rate of convergence to $0$ is less than geometric when $a=1$.\n",
    "\n",
    "(b) The point $1-a^{-1}$ is a fixed point for $a > 1$. It is locally attractive when $1 < a < 3$ and locally repelling when $3 < a \\leq 4$.\n",
    "\n",
    "(c) For $1 < a \\leq 2$, the fixed point $r=1-a^{-1}$ is globally attractive on $(0,1)$. (Hint: Write $f(x)-r=(x-r)(1-ax)$.)"
   ]
  },
  {
   "cell_type": "markdown",
   "id": "e68b6bbf-e68d-4e6e-af10-e526789654b7",
   "metadata": {},
   "source": [
    "## 5. Functional Iteration\n",
    "\n",
    "### 5.1 Lotka data\n",
    "\n",
    "Program the functional iteration for an extinction probability of surnames among white males in the United States, with the following\n",
    "progeny generating function from the 1920 census data,\n",
    "$$\n",
    "P(s) = .4982 + .2103s + .1270s^2 + .0730s^3 + .0418s^4 + .0241s^5\n",
    "+ .0132s^6 + .0069s^7 + .0035s^8 + .0015s^9 + .0005s^{10}.\n",
    "$$\n",
    "What is the order of the number of operations at each iteration in your program?\n",
    "\n",
    "\n",
    "### 5.2\n",
    "\n",
    "Functional iteration can often be accelerated. In searching for a fixed\n",
    "point of $x = f(x)$, consider the iteration scheme $x_n = f_\\alpha(x_{n-1})$,\n",
    "where $\\alpha$ is some constant and $f_\\alpha(x) = (1 - \\alpha)x + \\alpha f(x)$.\n",
    "Prove that any fixed point $x_1$ of $f(x)$ is also a fixed point of $f_\\alpha(x)$ and vice versa. \n",
    "Since $|f'_\\alpha(x_1)|$ determines the rate of convergence of\n",
    "$x_n = f_\\alpha(x_{n-1})$ to $x_\\infty$, find the $\\alpha$ that minimizes $|f'_\\alpha(x_\\infty)|$\n",
    "when $|f'(x_\\infty)| < 1$. Unfortunately, neither $x_\\infty$ nor $f'(x_\\infty)$ is typically known in advance.\n",
    "\n",
    "### 5.3\n",
    "Use this idea to investigate numerically the following iteration\n",
    "$$\n",
    "x_n = (1-\\alpha)x_{n-1} + \\alpha P(X_{n-1})\n",
    "$$\n",
    "with $\\alpha = 1/[1- P'(0)]$ in the Lotka data. Is the convergence faster?"
   ]
  },
  {
   "cell_type": "code",
   "execution_count": null,
   "id": "11674395",
   "metadata": {},
   "outputs": [],
   "source": []
  }
 ],
 "metadata": {
  "kernelspec": {
   "display_name": "Python 3 (ipykernel)",
   "language": "python",
   "name": "python3"
  },
  "language_info": {
   "codemirror_mode": {
    "name": "ipython",
    "version": 3
   },
   "file_extension": ".py",
   "mimetype": "text/x-python",
   "name": "python",
   "nbconvert_exporter": "python",
   "pygments_lexer": "ipython3",
   "version": "3.10.14"
  }
 },
 "nbformat": 4,
 "nbformat_minor": 5
}
