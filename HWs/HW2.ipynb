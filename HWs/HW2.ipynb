{
 "cells": [
  {
   "cell_type": "markdown",
   "id": "4b410cb5",
   "metadata": {},
   "source": [
    "\\setcounter{secnumdepth}{0}\n",
    "\n",
    "\n",
    "# STAT 207 HW2\n",
    "\n",
    "## Your Name\n",
    "\n",
    "\n",
    "**All homeworks should be completed independently; make your answers and codes as concise as possible; avoid excessive outputs; submit BOTH your source code and output file to Canvas.**\n",
    "\n",
    "## 1. NAS Problem 6.7.3\n",
    "\n",
    "\n",
    "## 2. NAS Problem 6.7.5\n",
    "\n",
    "## 3. CS Exercise 5.3\n",
    "\n",
    "Implementation of Gram-Schmidt orthonormalization.\n",
    "\n",
    "\n",
    "\n",
    "## 4. Sweeping\n",
    "\n",
    "Consider the matrix\n",
    "$$\n",
    "A = \n",
    "\\begin{pmatrix}\n",
    "4 & 6 & 3 \\\\\n",
    "6 & 10 & 6 \\\\\n",
    "3 & 6 & 7\n",
    "\\end{pmatrix}.\n",
    "$$\n",
    "Compute by hand its inverse by sweeping. Determine whether $A$ is positive definite based on the intermediate results of sweeping.\n",
    "\n",
    "## 5. Find more than one Cholesky decompositions of the following matrix. \n",
    "$$\n",
    "A = \n",
    "\\begin{pmatrix}\n",
    "1 & 2 & 2 \\\\\n",
    "2 & 4 & 4 \\\\\n",
    "2 & 4 & 17\n",
    "\\end{pmatrix}\n",
    "$$\n",
    "\n",
    "Therefore it is not unique for positive semidefinite matrices.\n"
   ]
  },
  {
   "cell_type": "code",
   "execution_count": null,
   "id": "abf51992",
   "metadata": {},
   "outputs": [],
   "source": []
  }
 ],
 "metadata": {
  "kernelspec": {
   "display_name": "stat_207",
   "language": "python",
   "name": "python3"
  },
  "language_info": {
   "codemirror_mode": {
    "name": "ipython",
    "version": 3
   },
   "file_extension": ".py",
   "mimetype": "text/x-python",
   "name": "python",
   "nbconvert_exporter": "python",
   "pygments_lexer": "ipython3",
   "version": "3.10.8"
  }
 },
 "nbformat": 4,
 "nbformat_minor": 5
}
